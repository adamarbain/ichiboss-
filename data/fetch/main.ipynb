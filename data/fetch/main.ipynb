{
 "cells": [
  {
   "cell_type": "code",
   "execution_count": 4,
   "id": "9054582f",
   "metadata": {},
   "outputs": [],
   "source": [
    "import json\n",
    "import requests\n",
    "import csv\n",
    "from urllib.parse import urlencode\n",
    "from api.cryptoquant.exchange_flows import reserve\n",
    "from api.cryptoquant.fund_data import market_price_usd, market_volume_usd\n",
    "from api.cryptoquant.price_ohlcv import Price_OHLCV\n",
    "from api.cryptoquant.velocity import velocity\n",
    "from api.cryptoquant.tokens_transfered import addresses_count\n",
    "from api.glassnode.addresses_activeCount import addresses_active\n",
    "from api.glassnode.transactions_volumeSum import transaction_volume\n",
    "from api.glassnode.mining_revenue import miner_fees, miner_total, miner_volume\n",
    "from api.glassnode.indicators_mvrv import indicators_mvrv\n",
    "from api.glassnode.price_close import price_close"
   ]
  },
  {
   "cell_type": "code",
   "execution_count": 5,
   "id": "dd6d37dd",
   "metadata": {},
   "outputs": [],
   "source": [
    "## Update function here\n",
    "# data = market_volume_usd()\n",
    "# data = reserve()\n",
    "# data = market_volume_usd()\n",
    "# data = miner_total()\n",
    "data = addresses_count()\n",
    "if not data:\n",
    "    print(\"Failed to get data\")\n"
   ]
  },
  {
   "cell_type": "code",
   "execution_count": 6,
   "id": "1c97eee5",
   "metadata": {},
   "outputs": [
    {
     "name": "stdout",
     "output_type": "stream",
     "text": [
      "Data has been written to .csv file\n"
     ]
    }
   ],
   "source": [
    "## Update file path to save here\n",
    "# file_path = \"../market_data/BTC-ExchangeFlows-Reserve.csv\"\n",
    "# file_path = \"../market_data/BTC-FundData-MarketPriceUSD.csv\"\n",
    "file_path = \"../market_data/BTC-NetworkData-AddressesCount.csv\"\n",
    "\n",
    "# Write to CSV file\n",
    "with open(file_path, 'a', newline='') as csvfile:\n",
    "    # Get the fieldnames from the first item in the data\n",
    "    if isinstance(data, dict) and 'data' in data and data['data']:\n",
    "        fieldnames = data['data'][0].keys()\n",
    "    else:\n",
    "        fieldnames = data.keys() if isinstance(data, dict) else []\n",
    "    \n",
    "    writer = csv.DictWriter(csvfile, fieldnames=fieldnames)\n",
    "    \n",
    "    # Write header only if file is empty\n",
    "    if csvfile.tell() == 0:\n",
    "        writer.writeheader()\n",
    "    \n",
    "    # Write the data\n",
    "    if isinstance(data, dict) and 'data' in data:\n",
    "        writer.writerows(data['data'])\n",
    "    else:\n",
    "        writer.writerow(data)\n",
    "        \n",
    "print(\"Data has been written to .csv file\")"
   ]
  },
  {
   "cell_type": "code",
   "execution_count": null,
   "id": "b8c4bc49-af03-409d-828a-92b72e56b352",
   "metadata": {},
   "outputs": [],
   "source": []
  }
 ],
 "metadata": {
  "kernelspec": {
   "display_name": "Python 3 (ipykernel)",
   "language": "python",
   "name": "python3"
  },
  "language_info": {
   "codemirror_mode": {
    "name": "ipython",
    "version": 3
   },
   "file_extension": ".py",
   "mimetype": "text/x-python",
   "name": "python",
   "nbconvert_exporter": "python",
   "pygments_lexer": "ipython3",
   "version": "3.13.2"
  }
 },
 "nbformat": 4,
 "nbformat_minor": 5
}
