{
 "cells": [
  {
   "cell_type": "code",
   "execution_count": 1,
   "id": "9054582f",
   "metadata": {},
   "outputs": [],
   "source": [
    "import json\n",
    "import requests\n",
    "import csv\n",
    "from urllib.parse import urlencode\n",
    "from api.exchange_flows import reserve\n",
    "from api.fund_data import market_price_usd, market_volume_usd"
   ]
  },
  {
   "cell_type": "code",
   "execution_count": null,
   "id": "dd6d37dd",
   "metadata": {},
   "outputs": [],
   "source": [
    "## Update function here\n",
    "# data = market_volume_usd()\n",
    "# data = reserve()\n",
    "data = market_volume_usd()\n",
    "if not data:\n",
    "    print(\"Failed to get market price usd data\")\n"
   ]
  },
  {
   "cell_type": "code",
   "execution_count": null,
   "id": "1c97eee5",
   "metadata": {},
   "outputs": [
    {
     "name": "stdout",
     "output_type": "stream",
     "text": [
      "Data has been written to BTC-ExchangeFlows-Reserve.csv\n"
     ]
    }
   ],
   "source": [
    "## Update file path to save here\n",
    "# file_path = \"../market_data/BTC-ExchangeFlows-Reserve.csv\"\n",
    "# file_path = \"../market_data/BTC-FundData-MarketPriceUSD.csv\"\n",
    "file_path = \"../market_data/BTC-FundData-MarketVolume.csv\"\n",
    "\n",
    "# Write to CSV file\n",
    "with open(file_path, 'a', newline='') as csvfile:\n",
    "    # Get the fieldnames from the first item in the data\n",
    "    if isinstance(data, dict) and 'data' in data and data['data']:\n",
    "        fieldnames = data['data'][0].keys()\n",
    "    else:\n",
    "        fieldnames = data.keys() if isinstance(data, dict) else []\n",
    "    \n",
    "    writer = csv.DictWriter(csvfile, fieldnames=fieldnames)\n",
    "    \n",
    "    # Write header only if file is empty\n",
    "    if csvfile.tell() == 0:\n",
    "        writer.writeheader()\n",
    "    \n",
    "    # Write the data\n",
    "    if isinstance(data, dict) and 'data' in data:\n",
    "        writer.writerows(data['data'])\n",
    "    else:\n",
    "        writer.writerow(data)\n",
    "        \n",
    "print(\"Data has been written to BTC-ExchangeFlows-Reserve.csv\")"
   ]
  }
 ],
 "metadata": {
  "kernelspec": {
   "display_name": "Python 3",
   "language": "python",
   "name": "python3"
  },
  "language_info": {
   "codemirror_mode": {
    "name": "ipython",
    "version": 3
   },
   "file_extension": ".py",
   "mimetype": "text/x-python",
   "name": "python",
   "nbconvert_exporter": "python",
   "pygments_lexer": "ipython3",
   "version": "3.11.0rc1"
  }
 },
 "nbformat": 4,
 "nbformat_minor": 5
}
