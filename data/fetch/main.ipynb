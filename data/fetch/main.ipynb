{
 "cells": [
  {
   "cell_type": "code",
   "execution_count": 1,
   "id": "9054582f",
   "metadata": {},
   "outputs": [],
   "source": [
    "import json\n",
    "import requests\n",
    "import csv\n",
    "from urllib.parse import urlencode\n",
    "from api.exchange_flows import reserve\n",
    "from api.glassnode.addresses_activeCount import addresses_active\n",
    "from api.glassnode.transactions_volumeSum import transaction_volume\n",
    "from api.glassnode.mining_revenue import miner_fees, miner_total, miner_volume\n",
    "from api.glassnode.indicators_mvrv import indicators_mvrv\n",
    "from api.glassnode.price_close import price_close\n",
    "from api.fund_data import market_price_usd, market_volume_usd"
   ]
  },
  {
   "cell_type": "code",
   "execution_count": 2,
   "id": "dd6d37dd",
   "metadata": {},
   "outputs": [],
   "source": [
    "## Update function here\n",
    "# data = market_volume_usd()\n",
    "# data = reserve()\n",
    "# data = market_volume_usd()\n",
    "data = miner_total()\n",
    "if not data:\n",
    "    print(\"Failed to get market price usd data\")\n"
   ]
  },
  {
   "cell_type": "code",
   "execution_count": 3,
   "id": "1c97eee5",
   "metadata": {},
   "outputs": [
    {
     "name": "stdout",
     "output_type": "stream",
     "text": [
      "Data has been written to BTC-Miner-Total.csv\n"
     ]
    }
   ],
   "source": [
    "## Update file path to save here\n",
    "# file_path = \"../market_data/BTC-ExchangeFlows-Reserve.csv\"\n",
    "# file_path = \"../market_data/BTC-FundData-MarketPriceUSD.csv\"\n",
    "file_path = \"../market_data/BTC-Miner-Total.csv\"\n",
    "\n",
    "# Write to CSV file\n",
    "with open(file_path, 'a', newline='') as csvfile:\n",
    "    # Get the fieldnames from the first item in the data\n",
    "    if isinstance(data, dict) and 'data' in data and data['data']:\n",
    "        fieldnames = data['data'][0].keys()\n",
    "    else:\n",
    "        fieldnames = data.keys() if isinstance(data, dict) else []\n",
    "    \n",
    "    writer = csv.DictWriter(csvfile, fieldnames=fieldnames)\n",
    "    \n",
    "    # Write header only if file is empty\n",
    "    if csvfile.tell() == 0:\n",
    "        writer.writeheader()\n",
    "    \n",
    "    # Write the data\n",
    "    if isinstance(data, dict) and 'data' in data:\n",
    "        writer.writerows(data['data'])\n",
    "    else:\n",
    "        writer.writerow(data)\n",
    "        \n",
    "print(\"Data has been written to BTC-Miner-Total.csv\")"
   ]
  }
 ],
 "metadata": {
  "kernelspec": {
   "display_name": "Python 3",
   "language": "python",
   "name": "python3"
  },
  "language_info": {
   "codemirror_mode": {
    "name": "ipython",
    "version": 3
   },
   "file_extension": ".py",
   "mimetype": "text/x-python",
   "name": "python",
   "nbconvert_exporter": "python",
   "pygments_lexer": "ipython3",
   "version": "3.12.2"
  }
 },
 "nbformat": 4,
 "nbformat_minor": 5
}
