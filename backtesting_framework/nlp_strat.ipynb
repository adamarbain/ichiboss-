{
 "cells": [
  {
   "cell_type": "code",
   "execution_count": 1,
   "id": "09575763",
   "metadata": {},
   "outputs": [],
   "source": [
    "import pandas as pd\n"
   ]
  },
  {
   "cell_type": "code",
   "execution_count": 2,
   "id": "8bcedafd",
   "metadata": {},
   "outputs": [],
   "source": [
    "# reddit = pd.read_csv('cryptonews.csv')\n",
    "# reddit.date =  pd.to_datetime(pd.to_datetime(reddit.date, errors='coerce').dt.date)\n",
    "reddit2022 = pd.read_csv('reddit_2022.csv')"
   ]
  },
  {
   "cell_type": "code",
   "execution_count": 3,
   "id": "ed13fe12",
   "metadata": {},
   "outputs": [],
   "source": [
    "btc_reddit2022 = reddit2022[reddit2022.subject=='bitcoin'].copy()"
   ]
  },
  {
   "cell_type": "code",
   "execution_count": 4,
   "id": "546c7261",
   "metadata": {},
   "outputs": [],
   "source": [
    "text_data = btc_reddit2022[['date', 'title', 'text']].reset_index(drop=True)"
   ]
  },
  {
   "cell_type": "code",
   "execution_count": 5,
   "id": "7f9a0e6e",
   "metadata": {},
   "outputs": [
    {
     "data": {
      "text/html": [
       "<div>\n",
       "<style scoped>\n",
       "    .dataframe tbody tr th:only-of-type {\n",
       "        vertical-align: middle;\n",
       "    }\n",
       "\n",
       "    .dataframe tbody tr th {\n",
       "        vertical-align: top;\n",
       "    }\n",
       "\n",
       "    .dataframe thead th {\n",
       "        text-align: right;\n",
       "    }\n",
       "</style>\n",
       "<table border=\"1\" class=\"dataframe\">\n",
       "  <thead>\n",
       "    <tr style=\"text-align: right;\">\n",
       "      <th></th>\n",
       "      <th>date</th>\n",
       "      <th>title</th>\n",
       "      <th>text</th>\n",
       "    </tr>\n",
       "  </thead>\n",
       "  <tbody>\n",
       "    <tr>\n",
       "      <th>0</th>\n",
       "      <td>31/12/2022</td>\n",
       "      <td>Here’s Why MicroStrategy Sold 704 Bitcoins on ...</td>\n",
       "      <td>Here's why MicroStrategy sold some of its bitc...</td>\n",
       "    </tr>\n",
       "    <tr>\n",
       "      <th>1</th>\n",
       "      <td>31/12/2022</td>\n",
       "      <td>Bitcoin Price to Consolidate or Retrace Even F...</td>\n",
       "      <td>Bitcoin whales have become net sellers recentl...</td>\n",
       "    </tr>\n",
       "    <tr>\n",
       "      <th>2</th>\n",
       "      <td>31/12/2022</td>\n",
       "      <td>Bitcoin stays put with yearly close set to sea...</td>\n",
       "      <td>Little fresh BTC price action greets traders i...</td>\n",
       "    </tr>\n",
       "    <tr>\n",
       "      <th>3</th>\n",
       "      <td>31/12/2022</td>\n",
       "      <td>Winners and losers of 2022: A disastrous year ...</td>\n",
       "      <td>2022 was an eventful year for the crypto world...</td>\n",
       "    </tr>\n",
       "    <tr>\n",
       "      <th>4</th>\n",
       "      <td>31/12/2022</td>\n",
       "      <td>'Crypto winter' won't end in 2023 — Bitcoin ad...</td>\n",
       "      <td>It will be 'another tough year' for crypto in ...</td>\n",
       "    </tr>\n",
       "    <tr>\n",
       "      <th>...</th>\n",
       "      <td>...</td>\n",
       "      <td>...</td>\n",
       "      <td>...</td>\n",
       "    </tr>\n",
       "    <tr>\n",
       "      <th>5251</th>\n",
       "      <td>3/1/2022</td>\n",
       "      <td>Shiba DAO, Strategic Blockchain Gaming, Bank L...</td>\n",
       "      <td>Get your daily, bite-sized digest of cryptoass...</td>\n",
       "    </tr>\n",
       "    <tr>\n",
       "      <th>5252</th>\n",
       "      <td>3/1/2022</td>\n",
       "      <td>Bitcoin and Ethereum are Eyeing Short-Term Bre...</td>\n",
       "      <td>Bitcoin price is eyeing an upside break above ...</td>\n",
       "    </tr>\n",
       "    <tr>\n",
       "      <th>5253</th>\n",
       "      <td>3/1/2022</td>\n",
       "      <td>A Reminder On Bitcoin's 13th Birthday: Why It ...</td>\n",
       "      <td>The crypto community is celebrating Bitcoin be...</td>\n",
       "    </tr>\n",
       "    <tr>\n",
       "      <th>5254</th>\n",
       "      <td>3/1/2022</td>\n",
       "      <td>Bitcoin and Ethereum Eye Last Line of Defense,...</td>\n",
       "      <td>Bitcoin price is struggling to gain pace above...</td>\n",
       "    </tr>\n",
       "    <tr>\n",
       "      <th>5255</th>\n",
       "      <td>1/1/2022</td>\n",
       "      <td>This Is Why Rich Dad, Poor Dad Author Buys Bit...</td>\n",
       "      <td>The US SEC will go after most altcoins since t...</td>\n",
       "    </tr>\n",
       "  </tbody>\n",
       "</table>\n",
       "<p>5256 rows × 3 columns</p>\n",
       "</div>"
      ],
      "text/plain": [
       "            date                                              title  \\\n",
       "0     31/12/2022  Here’s Why MicroStrategy Sold 704 Bitcoins on ...   \n",
       "1     31/12/2022  Bitcoin Price to Consolidate or Retrace Even F...   \n",
       "2     31/12/2022  Bitcoin stays put with yearly close set to sea...   \n",
       "3     31/12/2022  Winners and losers of 2022: A disastrous year ...   \n",
       "4     31/12/2022  'Crypto winter' won't end in 2023 — Bitcoin ad...   \n",
       "...          ...                                                ...   \n",
       "5251    3/1/2022  Shiba DAO, Strategic Blockchain Gaming, Bank L...   \n",
       "5252    3/1/2022  Bitcoin and Ethereum are Eyeing Short-Term Bre...   \n",
       "5253    3/1/2022  A Reminder On Bitcoin's 13th Birthday: Why It ...   \n",
       "5254    3/1/2022  Bitcoin and Ethereum Eye Last Line of Defense,...   \n",
       "5255    1/1/2022  This Is Why Rich Dad, Poor Dad Author Buys Bit...   \n",
       "\n",
       "                                                   text  \n",
       "0     Here's why MicroStrategy sold some of its bitc...  \n",
       "1     Bitcoin whales have become net sellers recentl...  \n",
       "2     Little fresh BTC price action greets traders i...  \n",
       "3     2022 was an eventful year for the crypto world...  \n",
       "4     It will be 'another tough year' for crypto in ...  \n",
       "...                                                 ...  \n",
       "5251  Get your daily, bite-sized digest of cryptoass...  \n",
       "5252  Bitcoin price is eyeing an upside break above ...  \n",
       "5253  The crypto community is celebrating Bitcoin be...  \n",
       "5254  Bitcoin price is struggling to gain pace above...  \n",
       "5255  The US SEC will go after most altcoins since t...  \n",
       "\n",
       "[5256 rows x 3 columns]"
      ]
     },
     "execution_count": 5,
     "metadata": {},
     "output_type": "execute_result"
    }
   ],
   "source": [
    "text_data"
   ]
  },
  {
   "cell_type": "code",
   "execution_count": 6,
   "id": "520df8f4",
   "metadata": {},
   "outputs": [
    {
     "name": "stderr",
     "output_type": "stream",
     "text": [
      "/home/afiq/blogpost/umh/py-env/lib/python3.10/site-packages/tqdm/auto.py:21: TqdmWarning: IProgress not found. Please update jupyter and ipywidgets. See https://ipywidgets.readthedocs.io/en/stable/user_install.html\n",
      "  from .autonotebook import tqdm as notebook_tqdm\n",
      "Device set to use cuda:0\n"
     ]
    },
    {
     "name": "stdout",
     "output_type": "stream",
     "text": [
      " Natural language processing (NLP) is a subfield of AI focused on enabling computers to understand human language . Modern NLP models like BERT and GPT-4 have revolutionized tasks such as translation and summarization .\n"
     ]
    }
   ],
   "source": [
    "from transformers import pipeline\n",
    "\n",
    "# Load the summarization pipeline\n",
    "summarizer = pipeline(\"summarization\", model=\"sshleifer/distilbart-cnn-12-6\")\n",
    "\n",
    "# Example text chunk\n",
    "text = \"\"\"\n",
    "Natural language processing (NLP) is a subfield of AI focused on enabling computers to understand human language. \n",
    "Modern NLP models like BERT and GPT-4 have revolutionized tasks such as translation and summarization. \n",
    "However, smaller models like DistilBART are optimized for speed and resource efficiency while retaining good performance.\n",
    "\"\"\"\n",
    "\n",
    "# Generate summary\n",
    "summary = summarizer(\n",
    "    text,\n",
    "    max_length=50,  # Adjust based on desired summary length\n",
    "    min_length=25,\n",
    "    do_sample=False,  # Disable randomness for deterministic output\n",
    "    truncation=True\n",
    ")\n",
    "\n",
    "print(summary[0]['summary_text'])"
   ]
  }
 ],
 "metadata": {
  "kernelspec": {
   "display_name": "py-env",
   "language": "python",
   "name": "python3"
  },
  "language_info": {
   "codemirror_mode": {
    "name": "ipython",
    "version": 3
   },
   "file_extension": ".py",
   "mimetype": "text/x-python",
   "name": "python",
   "nbconvert_exporter": "python",
   "pygments_lexer": "ipython3",
   "version": "3.10.12"
  }
 },
 "nbformat": 4,
 "nbformat_minor": 5
}
