{
 "cells": [
  {
   "cell_type": "code",
   "execution_count": null,
   "id": "8e24aa00",
   "metadata": {},
   "outputs": [],
   "source": [
    "# Use py-env environment\n",
    "%source ../py-env/bin/activate"
   ]
  },
  {
   "cell_type": "code",
   "execution_count": 16,
   "id": "9db53e33",
   "metadata": {},
   "outputs": [
    {
     "name": "stdout",
     "output_type": "stream",
     "text": [
      "Requirement already satisfied: pandas in /home/afiq/blogpost/umh/py-env/lib/python3.10/site-packages (from -r requirements.txt (line 2)) (2.2.3)\n",
      "Requirement already satisfied: numpy in /home/afiq/blogpost/umh/py-env/lib/python3.10/site-packages (from -r requirements.txt (line 3)) (2.2.4)\n",
      "Requirement already satisfied: pytz>=2020.1 in /home/afiq/blogpost/umh/py-env/lib/python3.10/site-packages (from pandas->-r requirements.txt (line 2)) (2025.2)\n",
      "Requirement already satisfied: tzdata>=2022.7 in /home/afiq/blogpost/umh/py-env/lib/python3.10/site-packages (from pandas->-r requirements.txt (line 2)) (2025.2)\n",
      "Requirement already satisfied: python-dateutil>=2.8.2 in /home/afiq/blogpost/umh/py-env/lib/python3.10/site-packages (from pandas->-r requirements.txt (line 2)) (2.9.0.post0)\n",
      "Requirement already satisfied: six>=1.5 in /home/afiq/blogpost/umh/py-env/lib/python3.10/site-packages (from python-dateutil>=2.8.2->pandas->-r requirements.txt (line 2)) (1.17.0)\n",
      "Note: you may need to restart the kernel to use updated packages.\n"
     ]
    }
   ],
   "source": [
    "# Installing env\n",
    "%pip install -r requirements.txt"
   ]
  },
  {
   "cell_type": "code",
   "execution_count": 9,
   "id": "8281dee5",
   "metadata": {},
   "outputs": [],
   "source": [
    "import pandas as pd\n",
    "import numpy as np"
   ]
  },
  {
   "cell_type": "code",
   "execution_count": 14,
   "id": "0e83f803",
   "metadata": {},
   "outputs": [],
   "source": [
    "file_path = \"../data/market_data/BTC-FundData-MarketPriceUSD.csv\"\n",
    "market_price = pd.read_csv(file_path)"
   ]
  },
  {
   "cell_type": "code",
   "execution_count": 15,
   "id": "981f3fd0",
   "metadata": {},
   "outputs": [
    {
     "data": {
      "text/html": [
       "<div>\n",
       "<style scoped>\n",
       "    .dataframe tbody tr th:only-of-type {\n",
       "        vertical-align: middle;\n",
       "    }\n",
       "\n",
       "    .dataframe tbody tr th {\n",
       "        vertical-align: top;\n",
       "    }\n",
       "\n",
       "    .dataframe thead th {\n",
       "        text-align: right;\n",
       "    }\n",
       "</style>\n",
       "<table border=\"1\" class=\"dataframe\">\n",
       "  <thead>\n",
       "    <tr style=\"text-align: right;\">\n",
       "      <th></th>\n",
       "      <th>start_time</th>\n",
       "      <th>date</th>\n",
       "      <th>price_usd_adj_close</th>\n",
       "      <th>price_usd_close</th>\n",
       "      <th>price_usd_high</th>\n",
       "      <th>price_usd_low</th>\n",
       "      <th>price_usd_open</th>\n",
       "    </tr>\n",
       "  </thead>\n",
       "  <tbody>\n",
       "    <tr>\n",
       "      <th>0</th>\n",
       "      <td>1430697600000</td>\n",
       "      <td>2015-05-04</td>\n",
       "      <td>0.412400</td>\n",
       "      <td>42.0</td>\n",
       "      <td>42.00</td>\n",
       "      <td>37.98</td>\n",
       "      <td>38.0</td>\n",
       "    </tr>\n",
       "    <tr>\n",
       "      <th>1</th>\n",
       "      <td>1430784000000</td>\n",
       "      <td>2015-05-05</td>\n",
       "      <td>0.540047</td>\n",
       "      <td>55.0</td>\n",
       "      <td>94.86</td>\n",
       "      <td>55.00</td>\n",
       "      <td>55.0</td>\n",
       "    </tr>\n",
       "    <tr>\n",
       "      <th>2</th>\n",
       "      <td>1430870400000</td>\n",
       "      <td>2015-05-06</td>\n",
       "      <td>0.540047</td>\n",
       "      <td>55.0</td>\n",
       "      <td>55.00</td>\n",
       "      <td>55.00</td>\n",
       "      <td>55.0</td>\n",
       "    </tr>\n",
       "    <tr>\n",
       "      <th>3</th>\n",
       "      <td>1430956800000</td>\n",
       "      <td>2015-05-07</td>\n",
       "      <td>0.392762</td>\n",
       "      <td>40.0</td>\n",
       "      <td>66.00</td>\n",
       "      <td>40.00</td>\n",
       "      <td>65.0</td>\n",
       "    </tr>\n",
       "    <tr>\n",
       "      <th>4</th>\n",
       "      <td>1431043200000</td>\n",
       "      <td>2015-05-08</td>\n",
       "      <td>0.481133</td>\n",
       "      <td>49.0</td>\n",
       "      <td>59.00</td>\n",
       "      <td>49.00</td>\n",
       "      <td>50.0</td>\n",
       "    </tr>\n",
       "  </tbody>\n",
       "</table>\n",
       "</div>"
      ],
      "text/plain": [
       "      start_time        date  price_usd_adj_close  price_usd_close  \\\n",
       "0  1430697600000  2015-05-04             0.412400             42.0   \n",
       "1  1430784000000  2015-05-05             0.540047             55.0   \n",
       "2  1430870400000  2015-05-06             0.540047             55.0   \n",
       "3  1430956800000  2015-05-07             0.392762             40.0   \n",
       "4  1431043200000  2015-05-08             0.481133             49.0   \n",
       "\n",
       "   price_usd_high  price_usd_low  price_usd_open  \n",
       "0           42.00          37.98            38.0  \n",
       "1           94.86          55.00            55.0  \n",
       "2           55.00          55.00            55.0  \n",
       "3           66.00          40.00            65.0  \n",
       "4           59.00          49.00            50.0  "
      ]
     },
     "execution_count": 15,
     "metadata": {},
     "output_type": "execute_result"
    }
   ],
   "source": [
    "market_price.head()"
   ]
  }
 ],
 "metadata": {
  "kernelspec": {
   "display_name": "py-env",
   "language": "python",
   "name": "python3"
  },
  "language_info": {
   "codemirror_mode": {
    "name": "ipython",
    "version": 3
   },
   "file_extension": ".py",
   "mimetype": "text/x-python",
   "name": "python",
   "nbconvert_exporter": "python",
   "pygments_lexer": "ipython3",
   "version": "3.10.12"
  }
 },
 "nbformat": 4,
 "nbformat_minor": 5
}
